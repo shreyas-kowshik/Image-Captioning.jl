{
 "cells": [
  {
   "cell_type": "code",
   "execution_count": 1,
   "metadata": {},
   "outputs": [
    {
     "data": {
      "text/plain": [
       "gpu (generic function with 1 method)"
      ]
     },
     "execution_count": 1,
     "metadata": {},
     "output_type": "execute_result"
    }
   ],
   "source": [
    "using Pkg\n",
    "Pkg.activate(\".\")\n",
    "using JSON\n",
    "using WordTokenizers\n",
    "using StatsBase\n",
    "using Flux,CuArrays\n",
    "using Flux:onehot\n",
    "using Base.Iterators:partition\n",
    "using Metalhead\n",
    "using JLD\n",
    "using BSON:@save,@load\n",
    "\n",
    "include(\"utils.jl\")\n",
    "BASE_PATH = \"../data/\"\n",
    "\n",
    "#--------HYPERPARAMETERS----------#\n",
    "NUM_SENTENCES = 5\n",
    "# Find top-k tokens\n",
    "K = 30\n",
    "BATCH_SIZE = 64\n",
    "EMBEDDING_DIM = 256\n",
    "HIDDEN_DIM = 512\n",
    "LOG_FREQUENCY = 10\n",
    "EPOCHS = 300\n",
    "SAVE_FREQUENCY = 10\n",
    "global global_step = 1\n",
    "device = gpu"
   ]
  },
  {
   "cell_type": "code",
   "execution_count": 2,
   "metadata": {},
   "outputs": [
    {
     "data": {
      "text/plain": [
       "5-element Array{String,1}:\n",
       " \"../data/train2014/COCO_train2014_000000318556.jpg\"\n",
       " \"../data/train2014/COCO_train2014_000000116100.jpg\"\n",
       " \"../data/train2014/COCO_train2014_000000318556.jpg\"\n",
       " \"../data/train2014/COCO_train2014_000000116100.jpg\"\n",
       " \"../data/train2014/COCO_train2014_000000379340.jpg\""
      ]
     },
     "execution_count": 2,
     "metadata": {},
     "output_type": "execute_result"
    }
   ],
   "source": [
    "punc = \"!#%&()*+.,-/:;=?@[]^_`{|}~\"\n",
    "punctuation = [punc[i] for i in 1:length(punc)]\n",
    "data = load_data(BASE_PATH,NUM_SENTENCES,punctuation)\n",
    "\n",
    "captions = [d[1] for d in data]\n",
    "tokens = cat([tokenize(sentence) for sentence in captions]...,dims=1)\n",
    "vocab = unique(tokens)\n",
    "# Sort according to frequencies\n",
    "freqs = reverse(sort(collect(countmap(tokens)),by=x->x[2]))\n",
    "top_k_tokens = [freqs[i][1] for i in 1:K]\n",
    "tokenized_captions = []\n",
    "for i in 1:length(captions)\n",
    "    sent_tokens = tokenize(captions[i])\n",
    "    for j in 1:length(sent_tokens)\n",
    "        sent_tokens[j] = !(sent_tokens[j] in top_k_tokens) ? \"<UNK>\" : sent_tokens[j]\n",
    "    end\n",
    "    push!(tokenized_captions,sent_tokens)\n",
    "end\n",
    "max_length_sentence = maximum([length(cap) for cap in tokenized_captions])\n",
    "# Pad the sequences\n",
    "for (i,cap) in enumerate(tokenized_captions)\n",
    "    if length(cap) < max_length_sentence\n",
    "        tokenized_captions[i] = [tokenized_captions[i]...,[\"<PAD>\" for i in 1:(max_length_sentence - length(cap))]...]\n",
    "    end\n",
    "end\n",
    "# Define the vocabulary\n",
    "vocab = [top_k_tokens...,\"<UNK>\",\"<PAD>\"]\n",
    "# Define mappings\n",
    "word2idx = Dict(word=>i for (i,word) in enumerate(vocab))\n",
    "idx2word = Dict(value=>key for (key,value) in word2idx)\n",
    "SEQ_LEN = max_length_sentence\n",
    "# Now - tokenized_captions contains the tokens for each caption in the form of an array\n",
    "\n",
    "onehotword(word) = Float32.(onehot(word2idx[word],1:length(vocab)))\n",
    "mb_idxs = partition(1:length(data),BATCH_SIZE)\n",
    "image_names = [d[2] for d in data]"
   ]
  },
  {
   "cell_type": "code",
   "execution_count": 3,
   "metadata": {},
   "outputs": [
    {
     "data": {
      "text/plain": [
       "zero_grad! (generic function with 1 method)"
      ]
     },
     "execution_count": 3,
     "metadata": {},
     "output_type": "execute_result"
    }
   ],
   "source": [
    "function extract_embedding_features(image_names)\n",
    "    # extract features from the images and save them to a file\n",
    "    vgg = VGG19() |> gpu\n",
    "    Flux.testmode!(vgg)\n",
    "    vgg = vgg.layers[1:end-3] |> gpu\n",
    "    \n",
    "    features = Dict()\n",
    "    for im_name in image_names\n",
    "        if im_name in keys(features)\n",
    "            continue\n",
    "        end\n",
    "        \n",
    "        img = Metalhead.preprocess(load(im_name)) |> gpu\n",
    "        out = vgg(img)\n",
    "        \n",
    "        features[im_name] = out |> cpu\n",
    "    end\n",
    "    \n",
    "    save(\"features.jld\",\"features\",features)\n",
    "end\n",
    "\n",
    "function load_embedding_features()\n",
    "    load(\"features.jld\")[\"features\"]\n",
    "end\n",
    "\n",
    "# extract_embedding_features(image_names)\n",
    "features = load_embedding_features()\n",
    "\n",
    "function get_mb(idx,features)\n",
    "    cap = tokenized_captions[idx]\n",
    "    img_names = image_names[idx]\n",
    "    \n",
    "    mb_captions = []\n",
    "    mb_features = []\n",
    "    mb_targets = []\n",
    "    \n",
    "    for i in 1:length(img_names)\n",
    "         push!(mb_features,features[img_names[i]])\n",
    "    end\n",
    "    \n",
    "    mb_features = hcat(mb_features...)\n",
    "    # Convert to - Array[SEQ_LEN] with each element - [V,BATCH_SIZE]\n",
    "    for i in 1:SEQ_LEN\n",
    "        # Extract and form a batch of each word in sequence\n",
    "        words = hcat([onehotword(sentence[i]) for sentence in cap]...)\n",
    "        \n",
    "        if i < SEQ_LEN\n",
    "            push!(mb_targets,hcat([onehotword(sentence[i + 1]) for sentence in cap]...))\n",
    "        else\n",
    "            push!(mb_targets,hcat([onehotword(\"<PAD>\") for sentence in cap]...))\n",
    "        end\n",
    "        \n",
    "        push!(mb_captions,words)\n",
    "    end\n",
    "    \n",
    "    (mb_captions,mb_features,mb_targets)\n",
    "end\n",
    "\n",
    "function nullify_grad!(p)\n",
    "  if typeof(p) <: TrackedArray\n",
    "    p.grad .= 0.0f0\n",
    "  end\n",
    "  return p\n",
    "end\n",
    "\n",
    "function zero_grad!(model)\n",
    "  model = mapleaves(nullify_grad!, model)\n",
    "end"
   ]
  },
  {
   "cell_type": "code",
   "execution_count": 11,
   "metadata": {},
   "outputs": [
    {
     "data": {
      "text/plain": [
       "load_models (generic function with 1 method)"
      ]
     },
     "execution_count": 11,
     "metadata": {},
     "output_type": "execute_result"
    }
   ],
   "source": [
    "global cnn_encoder = Chain(Dense(4096,EMBEDDING_DIM),x->relu.(x))\n",
    "global embedding = Chain(Dense(length(vocab),EMBEDDING_DIM))\n",
    "global rnn_decoder = Chain(LSTM(EMBEDDING_DIM,HIDDEN_DIM))\n",
    "global decoder = Chain(Dense(HIDDEN_DIM,length(vocab)))\n",
    "\n",
    "function zero_grad_models()\n",
    "    global cnn_encoder,embedding,rnn_decoder,decoder\n",
    "    \n",
    "    zero_grad!(cnn_encoder)\n",
    "    zero_grad!(embedding)\n",
    "    zero_grad!(rnn_decoder)\n",
    "    zero_grad!(decoder)\n",
    "end\n",
    "\n",
    "function to_device()\n",
    "    global cnn_encoder,embedding,rnn_decoder,decoder\n",
    "    \n",
    "\tcnn_encoder = cnn_encoder |> device\n",
    "\tembedding = embedding |> device\n",
    "\trnn_decoder = rnn_decoder |> device\n",
    "\tdecoder = decoder |> device\n",
    "end\n",
    "\n",
    "function to_cpu()\n",
    "    global cnn_encoder,embedding,rnn_decoder,decoder\n",
    "    \n",
    "\tcnn_encoder = cnn_encoder |> cpu\n",
    "\tembedding = embedding |> cpu\n",
    "\trnn_decoder = rnn_decoder |> cpu\n",
    "\tdecoder = decoder |> cpu\n",
    "end\n",
    "\n",
    "function reset_rnn()\n",
    "    global rnn_decoder\n",
    "    \n",
    "    Flux.reset!(rnn_decoder.layers[1])\n",
    "end\n",
    "\n",
    "function save_models()\n",
    "    global cnn_encoder,embedding,rnn_decoder,decoder\n",
    "    \n",
    "\tto_cpu()\n",
    "\n",
    "    reset_rnn()\n",
    "    @save \"cnn_encoder.bson\" cnn_encoder\n",
    "    @save \"embedding.bson\" embedding\n",
    "    @save \"rnn_decoder.bson\" rnn_decoder\n",
    "    @save \"decoder.bson\" decoder\n",
    "\n",
    "\tto_device()\n",
    "end\n",
    "\n",
    "function load_models()\n",
    "    global cnn_encoder,embedding,rnn_decoder,decoder\n",
    "    \n",
    "    @load \"cnn_encoder.bson\" cnn_encoder\n",
    "    @load \"embedding.bson\" embedding\n",
    "    @load \"rnn_decoder.bson\" rnn_decoder\n",
    "    @load \"decoder.bson\" decoder\n",
    "    to_device()\n",
    "end"
   ]
  },
  {
   "cell_type": "code",
   "execution_count": 12,
   "metadata": {},
   "outputs": [
    {
     "name": "stdout",
     "output_type": "stream",
     "text": [
      "Move models to respective device...\n"
     ]
    },
    {
     "name": "stderr",
     "output_type": "stream",
     "text": [
      "┌ Warning: ADAM(params) is deprecated; use ADAM(η::Float64) instead\n",
      "│   caller = top-level scope at In[12]:18\n",
      "└ @ Core In[12]:18\n",
      "┌ Warning: `_update_params!` is deprecated, use `update!` instead.\n",
      "│   caller = ip:0x0\n",
      "└ @ Core :-1\n"
     ]
    },
    {
     "name": "stdout",
     "output_type": "stream",
     "text": [
      "---Global Step : 10\n",
      "Loss : 39.364044f0 (tracked)\n",
      "Saved Models!\n",
      "---Global Step : 20\n",
      "Loss : 39.364044f0 (tracked)\n",
      "Saved Models!\n",
      "---Global Step : 30\n",
      "Loss : 39.364044f0 (tracked)\n"
     ]
    },
    {
     "ename": "InterruptException",
     "evalue": "InterruptException:",
     "output_type": "error",
     "traceback": [
      "InterruptException:",
      "",
      "Stacktrace:",
      " [1] Type at ./boot.jl:402 [inlined]",
      " [2] getindex(::Type{UInt8}, ::UInt8, ::UInt8, ::UInt8, ::UInt8, ::Vararg{UInt8,N} where N) at ./array.jl:343",
      " [3] reinterpret_ at /home/shreyas/.julia/packages/BSON/XPZLD/src/extensions.jl:62 [inlined]",
      " [4] lower(::Array{Float32,2}) at /home/shreyas/.julia/packages/BSON/XPZLD/src/extensions.jl:67",
      " [5] _lower_recursive(::Array{Float32,2}, ::IdDict{Any,Any}, ::Array{Any,1}) at /home/shreyas/.julia/packages/BSON/XPZLD/src/write.jl:62",
      " [6] (::getfield(BSON, Symbol(\"##7#11\")){IdDict{Any,Any},Array{Any,1}})(::Array{Float32,2}) at /home/shreyas/.julia/packages/BSON/XPZLD/src/write.jl:62",
      " [7] applychildren!(::getfield(BSON, Symbol(\"##7#11\")){IdDict{Any,Any},Array{Any,1}}, ::Array{Any,1}) at /home/shreyas/.julia/packages/BSON/XPZLD/src/BSON.jl:28",
      " [8] _lower_recursive(::Array{Any,1}, ::IdDict{Any,Any}, ::Array{Any,1}) at /home/shreyas/.julia/packages/BSON/XPZLD/src/write.jl:62",
      " [9] (::getfield(BSON, Symbol(\"##7#11\")){IdDict{Any,Any},Array{Any,1}})(::Array{Any,1}) at /home/shreyas/.julia/packages/BSON/XPZLD/src/write.jl:62",
      " [10] applychildren!(::getfield(BSON, Symbol(\"##7#11\")){IdDict{Any,Any},Array{Any,1}}, ::Dict{Symbol,Any}) at /home/shreyas/.julia/packages/BSON/XPZLD/src/BSON.jl:21",
      " [11] _lower_recursive(::TrackedArray{…,Array{Float32,2}}, ::IdDict{Any,Any}, ::Array{Any,1}) at /home/shreyas/.julia/packages/BSON/XPZLD/src/write.jl:62",
      " [12] (::getfield(BSON, Symbol(\"##7#11\")){IdDict{Any,Any},Array{Any,1}})(::TrackedArray{…,Array{Float32,2}}) at /home/shreyas/.julia/packages/BSON/XPZLD/src/write.jl:62",
      " [13] applychildren!(::getfield(BSON, Symbol(\"##7#11\")){IdDict{Any,Any},Array{Any,1}}, ::Array{Any,1}) at /home/shreyas/.julia/packages/BSON/XPZLD/src/BSON.jl:28",
      " [14] _lower_recursive(::Array{Any,1}, ::IdDict{Any,Any}, ::Array{Any,1}) at /home/shreyas/.julia/packages/BSON/XPZLD/src/write.jl:62",
      " [15] (::getfield(BSON, Symbol(\"##7#11\")){IdDict{Any,Any},Array{Any,1}})(::Array{Any,1}) at /home/shreyas/.julia/packages/BSON/XPZLD/src/write.jl:62",
      " [16] applychildren!(::getfield(BSON, Symbol(\"##7#11\")){IdDict{Any,Any},Array{Any,1}}, ::Dict{Symbol,Any}) at /home/shreyas/.julia/packages/BSON/XPZLD/src/BSON.jl:21",
      " [17] _lower_recursive(::Flux.LSTMCell{TrackedArray{…,Array{Float32,2}},TrackedArray{…,Array{Float32,1}}}, ::IdDict{Any,Any}, ::Array{Any,1}) at /home/shreyas/.julia/packages/BSON/XPZLD/src/write.jl:62",
      " [18] (::getfield(BSON, Symbol(\"##7#11\")){IdDict{Any,Any},Array{Any,1}})(::Flux.LSTMCell{TrackedArray{…,Array{Float32,2}},TrackedArray{…,Array{Float32,1}}}) at /home/shreyas/.julia/packages/BSON/XPZLD/src/write.jl:62",
      " [19] applychildren!(::getfield(BSON, Symbol(\"##7#11\")){IdDict{Any,Any},Array{Any,1}}, ::Array{Any,1}) at /home/shreyas/.julia/packages/BSON/XPZLD/src/BSON.jl:28",
      " [20] _lower_recursive(::Array{Any,1}, ::IdDict{Any,Any}, ::Array{Any,1}) at /home/shreyas/.julia/packages/BSON/XPZLD/src/write.jl:62",
      " [21] (::getfield(BSON, Symbol(\"##7#11\")){IdDict{Any,Any},Array{Any,1}})(::Array{Any,1}) at /home/shreyas/.julia/packages/BSON/XPZLD/src/write.jl:62",
      " [22] applychildren!(::getfield(BSON, Symbol(\"##7#11\")){IdDict{Any,Any},Array{Any,1}}, ::Dict{Symbol,Any}) at /home/shreyas/.julia/packages/BSON/XPZLD/src/BSON.jl:21",
      " [23] _lower_recursive(::Flux.Recur{Flux.LSTMCell{TrackedArray{…,Array{Float32,2}},TrackedArray{…,Array{Float32,1}}}}, ::IdDict{Any,Any}, ::Array{Any,1}) at /home/shreyas/.julia/packages/BSON/XPZLD/src/write.jl:62",
      " [24] (::getfield(BSON, Symbol(\"##7#11\")){IdDict{Any,Any},Array{Any,1}})(::Flux.Recur{Flux.LSTMCell{TrackedArray{…,Array{Float32,2}},TrackedArray{…,Array{Float32,1}}}}) at /home/shreyas/.julia/packages/BSON/XPZLD/src/write.jl:62",
      " [25] applychildren!(::getfield(BSON, Symbol(\"##7#11\")){IdDict{Any,Any},Array{Any,1}}, ::Array{Any,1}) at /home/shreyas/.julia/packages/BSON/XPZLD/src/BSON.jl:28",
      " [26] _lower_recursive(::Array{Any,1}, ::IdDict{Any,Any}, ::Array{Any,1}) at /home/shreyas/.julia/packages/BSON/XPZLD/src/write.jl:62",
      " [27] (::getfield(BSON, Symbol(\"##7#11\")){IdDict{Any,Any},Array{Any,1}})(::Array{Any,1}) at /home/shreyas/.julia/packages/BSON/XPZLD/src/write.jl:62",
      " [28] applychildren!(::getfield(BSON, Symbol(\"##7#11\")){IdDict{Any,Any},Array{Any,1}}, ::Dict{Symbol,Any}) at /home/shreyas/.julia/packages/BSON/XPZLD/src/BSON.jl:21",
      " [29] _lower_recursive(::Tuple{Flux.Recur{Flux.LSTMCell{TrackedArray{…,Array{Float32,2}},TrackedArray{…,Array{Float32,1}}}}}, ::IdDict{Any,Any}, ::Array{Any,1}) at /home/shreyas/.julia/packages/BSON/XPZLD/src/write.jl:62",
      " [30] (::getfield(BSON, Symbol(\"##7#11\")){IdDict{Any,Any},Array{Any,1}})(::Tuple{Flux.Recur{Flux.LSTMCell{TrackedArray{…,Array{Float32,2}},TrackedArray{…,Array{Float32,1}}}}}) at /home/shreyas/.julia/packages/BSON/XPZLD/src/write.jl:62",
      " [31] applychildren!(::getfield(BSON, Symbol(\"##7#11\")){IdDict{Any,Any},Array{Any,1}}, ::Array{Any,1}) at /home/shreyas/.julia/packages/BSON/XPZLD/src/BSON.jl:28",
      " [32] _lower_recursive(::Array{Any,1}, ::IdDict{Any,Any}, ::Array{Any,1}) at /home/shreyas/.julia/packages/BSON/XPZLD/src/write.jl:62",
      " [33] (::getfield(BSON, Symbol(\"##7#11\")){IdDict{Any,Any},Array{Any,1}})(::Array{Any,1}) at /home/shreyas/.julia/packages/BSON/XPZLD/src/write.jl:62",
      " [34] applychildren!(::getfield(BSON, Symbol(\"##7#11\")){IdDict{Any,Any},Array{Any,1}}, ::Dict{Symbol,Any}) at /home/shreyas/.julia/packages/BSON/XPZLD/src/BSON.jl:21",
      " [35] _lower_recursive(::Chain{Tuple{Flux.Recur{Flux.LSTMCell{TrackedArray{…,Array{Float32,2}},TrackedArray{…,Array{Float32,1}}}}}}, ::IdDict{Any,Any}, ::Array{Any,1}) at /home/shreyas/.julia/packages/BSON/XPZLD/src/write.jl:62",
      " [36] (::getfield(BSON, Symbol(\"##7#11\")){IdDict{Any,Any},Array{Any,1}})(::Chain{Tuple{Flux.Recur{Flux.LSTMCell{TrackedArray{…,Array{Float32,2}},TrackedArray{…,Array{Float32,1}}}}}}) at /home/shreyas/.julia/packages/BSON/XPZLD/src/write.jl:62",
      " [37] applychildren!(::getfield(BSON, Symbol(\"##7#11\")){IdDict{Any,Any},Array{Any,1}}, ::Dict{Symbol,Any}) at /home/shreyas/.julia/packages/BSON/XPZLD/src/BSON.jl:21",
      " [38] _lower_recursive(::Dict{Symbol,Chain{Tuple{Flux.Recur{Flux.LSTMCell{TrackedArray{…,Array{Float32,2}},TrackedArray{…,Array{Float32,1}}}}}}}, ::IdDict{Any,Any}, ::Array{Any,1}) at /home/shreyas/.julia/packages/BSON/XPZLD/src/write.jl:62",
      " [39] lower_recursive(::Dict{Symbol,Chain{Tuple{Flux.Recur{Flux.LSTMCell{TrackedArray{…,Array{Float32,2}},TrackedArray{…,Array{Float32,1}}}}}}}) at /home/shreyas/.julia/packages/BSON/XPZLD/src/write.jl:73",
      " [40] bson(::IOStream, ::Dict{Symbol,Chain{Tuple{Flux.Recur{Flux.LSTMCell{TrackedArray{…,Array{Float32,2}},TrackedArray{…,Array{Float32,1}}}}}}}) at /home/shreyas/.julia/packages/BSON/XPZLD/src/write.jl:81",
      " [41] #14 at /home/shreyas/.julia/packages/BSON/XPZLD/src/write.jl:83 [inlined]",
      " [42] #open#310(::Base.Iterators.Pairs{Union{},Union{},Tuple{},NamedTuple{(),Tuple{}}}, ::Function, ::getfield(BSON, Symbol(\"##14#15\")){Dict{Symbol,Chain{Tuple{Flux.Recur{Flux.LSTMCell{TrackedArray{…,Array{Float32,2}},TrackedArray{…,Array{Float32,1}}}}}}}}, ::String, ::Vararg{String,N} where N) at ./iostream.jl:369",
      " [43] open at ./iostream.jl:367 [inlined]",
      " [44] bson(::String, ::Dict{Symbol,Chain{Tuple{Flux.Recur{Flux.LSTMCell{TrackedArray{…,Array{Float32,2}},TrackedArray{…,Array{Float32,1}}}}}}}) at /home/shreyas/.julia/packages/BSON/XPZLD/src/write.jl:83",
      " [45] save_models() at ./In[11]:47",
      " [46] top-level scope at ./In[12]:42"
     ]
    }
   ],
   "source": [
    "# Move models to device\n",
    "to_device()\n",
    "println(\"Move models to respective device...\")\n",
    "\n",
    "function get_loss_val(mb_captions,mb_features,mb_targets)\n",
    "    global cnn_encoder,embedding,rnn_decoder,decoder\n",
    "    \n",
    "    reset_rnn()\n",
    "    lstm_inp = cnn_encoder(mb_features)\n",
    "    word_embeddings = embedding.(mb_captions)\n",
    "    lstm_out = rnn_decoder(lstm_inp)\n",
    "    predictions = softmax.(decoder.(rnn_decoder.(word_embeddings)))\n",
    "    sum(Flux.crossentropy.(predictions,mb_targets))\n",
    "end\n",
    "\n",
    "model_params = params(params(cnn_encoder)...,params(embedding)...,params(rnn_decoder)...,params(decoder)...)\n",
    "lr = 1e-4\n",
    "opt = ADAM(model_params,lr)\n",
    "\n",
    "for epoch in 1:EPOCHS\n",
    "    for idx in mb_idxs\n",
    "    \tglobal global_step\n",
    "\n",
    "        mb_captions,mb_features,mb_targets = get_mb(idx,features)\n",
    "\n",
    "        # Move data to device\n",
    "        mb_captions = device.(mb_captions)\n",
    "        mb_features = device(mb_features)\n",
    "        mb_targets = device.(mb_targets)\n",
    "\n",
    "        zero_grad_models()\n",
    "        Flux.back!(get_loss_val(mb_captions,mb_features,mb_targets))\n",
    "        opt()\n",
    "        global_step += 1\n",
    "        \n",
    "        if global_step % LOG_FREQUENCY == 0\n",
    "            println(\"---Global Step : $(global_step)\")\n",
    "            println(\"Loss : $(get_loss_val(mb_captions,mb_features,mb_targets))\")\n",
    "        end\n",
    "        \n",
    "        if global_step % SAVE_FREQUENCY == 0\n",
    "            save_models()\n",
    "            println(\"Saved Models!\")\n",
    "        end\n",
    "    end\n",
    "end"
   ]
  },
  {
   "cell_type": "code",
   "execution_count": 6,
   "metadata": {
    "scrolled": true
   },
   "outputs": [
    {
     "data": {
      "text/plain": [
       "5-element Array{Int64,1}:\n",
       " 1\n",
       " 2\n",
       " 3\n",
       " 4\n",
       " 5"
      ]
     },
     "execution_count": 6,
     "metadata": {},
     "output_type": "execute_result"
    }
   ],
   "source": [
    "idx = collect(mb_idxs)[1]"
   ]
  },
  {
   "cell_type": "code",
   "execution_count": 7,
   "metadata": {},
   "outputs": [
    {
     "data": {
      "text/plain": [
       "13-element Array{CuArray{Float32,2},1}:\n",
       " [1.0 1.0 … 1.0 1.0; 0.0 0.0 … 0.0 0.0; … ; 0.0 0.0 … 0.0 0.0; 0.0 0.0 … 0.0 0.0]\n",
       " [0.0 0.0 … 0.0 0.0; 0.0 0.0 … 0.0 0.0; … ; 1.0 0.0 … 0.0 0.0; 0.0 0.0 … 0.0 0.0]\n",
       " [0.0 0.0 … 0.0 0.0; 0.0 0.0 … 0.0 0.0; … ; 0.0 1.0 … 0.0 0.0; 0.0 0.0 … 0.0 0.0]\n",
       " [0.0 0.0 … 0.0 0.0; 0.0 0.0 … 0.0 0.0; … ; 0.0 0.0 … 0.0 0.0; 0.0 0.0 … 0.0 0.0]\n",
       " [0.0 0.0 … 0.0 0.0; 0.0 0.0 … 0.0 0.0; … ; 0.0 0.0 … 0.0 0.0; 0.0 0.0 … 0.0 0.0]\n",
       " [0.0 0.0 … 0.0 0.0; 0.0 0.0 … 0.0 0.0; … ; 1.0 0.0 … 0.0 0.0; 0.0 0.0 … 0.0 0.0]\n",
       " [0.0 0.0 … 0.0 0.0; 0.0 0.0 … 0.0 0.0; … ; 1.0 0.0 … 0.0 0.0; 0.0 0.0 … 0.0 0.0]\n",
       " [0.0 0.0 … 0.0 0.0; 0.0 0.0 … 0.0 0.0; … ; 0.0 0.0 … 0.0 0.0; 0.0 0.0 … 0.0 0.0]\n",
       " [0.0 0.0 … 0.0 0.0; 1.0 0.0 … 0.0 0.0; … ; 0.0 0.0 … 0.0 0.0; 0.0 0.0 … 0.0 0.0]\n",
       " [0.0 0.0 … 0.0 0.0; 0.0 0.0 … 1.0 0.0; … ; 0.0 0.0 … 0.0 0.0; 1.0 0.0 … 0.0 0.0]\n",
       " [0.0 0.0 … 0.0 0.0; 0.0 0.0 … 0.0 0.0; … ; 0.0 0.0 … 0.0 0.0; 1.0 0.0 … 1.0 0.0]\n",
       " [0.0 0.0 … 0.0 0.0; 0.0 1.0 … 0.0 1.0; … ; 0.0 0.0 … 0.0 0.0; 1.0 0.0 … 1.0 0.0]\n",
       " [0.0 0.0 … 0.0 0.0; 0.0 0.0 … 0.0 0.0; … ; 0.0 0.0 … 0.0 0.0; 1.0 1.0 … 1.0 1.0]"
      ]
     },
     "execution_count": 7,
     "metadata": {},
     "output_type": "execute_result"
    }
   ],
   "source": [
    "mb_captions,mb_features,mb_targets = get_mb(idx,features)\n",
    "\n",
    "# Move data to device\n",
    "mb_captions = device.(mb_captions)\n",
    "mb_features = device(mb_features)\n",
    "mb_targets = device.(mb_targets)"
   ]
  },
  {
   "cell_type": "code",
   "execution_count": 8,
   "metadata": {},
   "outputs": [
    {
     "ename": "ArgumentError",
     "evalue": "ArgumentError: cannot take the CPU address of a CuArray{Float32,2}",
     "output_type": "error",
     "traceback": [
      "ArgumentError: cannot take the CPU address of a CuArray{Float32,2}",
      "",
      "Stacktrace:",
      " [1] cconvert(::Type{Ptr{Float32}}, ::CuArray{Float32,2}) at /home/shreyas/.julia/packages/CuArrays/qZCAt/src/array.jl:154",
      " [2] gemm!(::Char, ::Char, ::Float32, ::Array{Float32,2}, ::CuArray{Float32,2}, ::Float32, ::CuArray{Float32,2}) at /buildworker/worker/package_linux64/build/usr/share/julia/stdlib/v1.1/LinearAlgebra/src/blas.jl:1122",
      " [3] gemm_wrapper!(::CuArray{Float32,2}, ::Char, ::Char, ::Array{Float32,2}, ::CuArray{Float32,2}) at /buildworker/worker/package_linux64/build/usr/share/julia/stdlib/v1.1/LinearAlgebra/src/matmul.jl:461",
      " [4] * at /buildworker/worker/package_linux64/build/usr/share/julia/stdlib/v1.1/LinearAlgebra/src/matmul.jl:144 [inlined]",
      " [5] _forward at /home/shreyas/.julia/packages/Tracker/6wcYJ/src/lib/array.jl:375 [inlined]",
      " [6] #track#1 at /home/shreyas/.julia/packages/Tracker/6wcYJ/src/Tracker.jl:51 [inlined]",
      " [7] track at /home/shreyas/.julia/packages/Tracker/6wcYJ/src/Tracker.jl:51 [inlined]",
      " [8] * at /home/shreyas/.julia/packages/Tracker/6wcYJ/src/lib/array.jl:363 [inlined]",
      " [9] Dense at /home/shreyas/.julia/packages/Flux/zNlBL/src/layers/basic.jl:82 [inlined]",
      " [10] Dense at /home/shreyas/.julia/packages/Flux/zNlBL/src/layers/basic.jl:93 [inlined]",
      " [11] applychain(::Tuple{Dense{typeof(identity),TrackedArray{…,Array{Float32,2}},TrackedArray{…,Array{Float32,1}}},getfield(Main, Symbol(\"##31#32\"))}, ::CuArray{Float32,2}) at /home/shreyas/.julia/packages/Flux/zNlBL/src/layers/basic.jl:31",
      " [12] Chain at /home/shreyas/.julia/packages/Flux/zNlBL/src/layers/basic.jl:33 [inlined]",
      " [13] get_loss_val(::Array{CuArray{Float32,2},1}, ::CuArray{Float32,2}, ::Array{CuArray{Float32,2},1}, ::Chain{Tuple{Dense{typeof(identity),TrackedArray{…,Array{Float32,2}},TrackedArray{…,Array{Float32,1}}},getfield(Main, Symbol(\"##31#32\"))}}, ::Chain{Tuple{Dense{typeof(identity),TrackedArray{…,Array{Float32,2}},TrackedArray{…,Array{Float32,1}}}}}, ::Chain{Tuple{Flux.Recur{Flux.LSTMCell{TrackedArray{…,Array{Float32,2}},TrackedArray{…,Array{Float32,1}}}}}}, ::Chain{Tuple{Dense{typeof(identity),TrackedArray{…,Array{Float32,2}},TrackedArray{…,Array{Float32,1}}}}}) at ./In[5]:7",
      " [14] top-level scope at In[8]:1"
     ]
    }
   ],
   "source": [
    "get_loss_val(mb_captions,mb_features,mb_targets,cnn_encoder,embedding,rnn_decoder,decoder)"
   ]
  },
  {
   "cell_type": "code",
   "execution_count": 21,
   "metadata": {},
   "outputs": [
    {
     "data": {
      "text/plain": [
       "Chain(Dense(512, 32))"
      ]
     },
     "execution_count": 21,
     "metadata": {},
     "output_type": "execute_result"
    }
   ],
   "source": [
    "to_device()"
   ]
  },
  {
   "cell_type": "code",
   "execution_count": 22,
   "metadata": {},
   "outputs": [
    {
     "data": {
      "text/plain": [
       "Tracked 256×4096 CuArray{Float32,2}:\n",
       " -0.018943    -0.026169     0.0272873   …  -0.0175114    0.0318894 \n",
       " -0.0369808    0.0291363    0.0308406       0.0356787   -0.0365992 \n",
       " -0.0153231   -0.0110527    0.00839798      0.0101099    0.00530886\n",
       " -0.00649967  -0.0217655   -0.0305017      -0.032863     0.0365551 \n",
       " -0.0243772   -0.00878064  -0.0234215      -0.0218636    0.0352688 \n",
       "  0.0255528    0.035949     0.0209666   …   0.0103029    0.00866148\n",
       "  0.0166642    0.032007     0.0267857      -0.014934     0.0337227 \n",
       "  0.00662626   0.0167969    0.0115766      -0.0198655    0.0192146 \n",
       "  0.0192281    0.0308421   -0.0168888       0.0218251   -0.0300144 \n",
       " -0.0163103   -0.0256428   -0.00554477      0.0347868    0.0322564 \n",
       "  0.0349331   -0.00920759  -0.0338403   …   0.00486652   0.0173492 \n",
       "  0.0289183   -0.0302206    0.0179387       0.0284328   -0.0140727 \n",
       "  0.0148864    0.0166573    0.0351221      -0.0223551   -0.0184862 \n",
       "  ⋮                                     ⋱                ⋮         \n",
       " -0.0368572   -0.00763623   0.0110119       0.0320465   -0.00158343\n",
       " -0.0118172   -0.0113995   -0.0297321   …   0.0135769    0.00693694\n",
       " -0.00859616  -0.0191375   -0.00526515      0.0135399    0.0239431 \n",
       "  0.0332144    0.00965382   0.0264635       0.024133    -0.016743  \n",
       "  0.012058    -0.0254661    0.0106039      -0.00141823   0.0261818 \n",
       " -0.0286086   -0.00578051   0.0286284       0.0245409   -0.0298974 \n",
       " -0.0152798    0.00430008   0.0360071   …  -0.0299138    0.036899  \n",
       " -0.00210298   0.0321883   -0.0128914       0.0168711   -0.0172775 \n",
       " -0.00843093   0.025192     0.00218906     -0.00763752  -0.0292373 \n",
       "  0.023       -0.022111    -0.0123042      -0.0146074    0.0134708 \n",
       "  0.0280897   -0.0337874   -0.0273462       0.0146386   -0.0288149 \n",
       " -0.0308293   -0.0153309    0.0285493   …   0.0253955   -0.00602122"
      ]
     },
     "execution_count": 22,
     "metadata": {},
     "output_type": "execute_result"
    }
   ],
   "source": [
    "cnn_encoder.layers[1].W"
   ]
  },
  {
   "cell_type": "code",
   "execution_count": 15,
   "metadata": {},
   "outputs": [
    {
     "data": {
      "text/plain": [
       "Chain(Dense(4096, 256), getfield(Main, Symbol(\"##31#32\"))())"
      ]
     },
     "execution_count": 15,
     "metadata": {},
     "output_type": "execute_result"
    }
   ],
   "source": [
    "cnn_encoder = cnn_encoder |> device"
   ]
  },
  {
   "cell_type": "code",
   "execution_count": null,
   "metadata": {
    "collapsed": true
   },
   "outputs": [],
   "source": []
  }
 ],
 "metadata": {
  "kernelspec": {
   "display_name": "Julia 1.1.0",
   "language": "julia",
   "name": "julia-1.1"
  },
  "language_info": {
   "file_extension": ".jl",
   "mimetype": "application/julia",
   "name": "julia",
   "version": "1.1.0"
  }
 },
 "nbformat": 4,
 "nbformat_minor": 2
}
